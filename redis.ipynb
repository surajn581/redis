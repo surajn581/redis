{
 "cells": [
  {
   "cell_type": "code",
   "execution_count": 5,
   "metadata": {},
   "outputs": [],
   "source": [
    "import redis"
   ]
  },
  {
   "cell_type": "code",
   "execution_count": 6,
   "metadata": {},
   "outputs": [],
   "source": [
    "rClient = redis.Redis(host='localhost', port=6379, db=0)"
   ]
  },
  {
   "cell_type": "code",
   "execution_count": 11,
   "metadata": {},
   "outputs": [],
   "source": [
    "def cache(expiry=100):\n",
    "    def _get_cache(f):\n",
    "        def get(self, key):\n",
    "            #prepending the key with function name so that different functions don't \n",
    "            #overwrite the same key\n",
    "            key_to_check = '{}:{}'.format( f.__name__, key )\n",
    "            value = self.getFromCache(key_to_check)\n",
    "            if value:\n",
    "                return value\n",
    "            value = f(self, key)\n",
    "            self.setInCache(key_to_check, value, expiry)\n",
    "            return value\n",
    "        return get\n",
    "    return _get_cache"
   ]
  },
  {
   "cell_type": "code",
   "execution_count": 65,
   "metadata": {},
   "outputs": [],
   "source": [
    "class API:\n",
    "    def __init__(self, r_client):\n",
    "        self.r_client = r_client\n",
    "        self.expiry = 300\n",
    "\n",
    "    def getFromCache(self, key):\n",
    "        return self.r_client.get(key)\n",
    "    \n",
    "    def setInCache(self, key, value, expiry = None):\n",
    "        self.r_client.set(key, value, expiry or self.expiry)\n",
    "    \n",
    "    @cache(expiry=500)\n",
    "    def _request(self, key):\n",
    "        import time\n",
    "        time.sleep(3)\n",
    "        return key**2\n",
    "    \n",
    "    def request(self, key):\n",
    "        return float( self._request(key) )\n",
    "    \n",
    "    def delete(self, key = None):\n",
    "        if not key:\n",
    "            self.r_client.flushall()\n",
    "            return\n",
    "        keys = self.r_client.keys(f'*{key}*')\n",
    "        key = keys[0] if keys else key\n",
    "        self.r_client.delete(key)"
   ]
  },
  {
   "cell_type": "code",
   "execution_count": 66,
   "metadata": {},
   "outputs": [],
   "source": [
    "api = API(r_client=rClient)"
   ]
  },
  {
   "cell_type": "code",
   "execution_count": 71,
   "metadata": {},
   "outputs": [
    {
     "data": {
      "text/plain": [
       "289.0"
      ]
     },
     "execution_count": 71,
     "metadata": {},
     "output_type": "execute_result"
    }
   ],
   "source": [
    "api.request(17)"
   ]
  },
  {
   "cell_type": "code",
   "execution_count": 73,
   "metadata": {},
   "outputs": [],
   "source": [
    "api.delete(17)"
   ]
  }
 ],
 "metadata": {
  "kernelspec": {
   "display_name": "py3",
   "language": "python",
   "name": "python3"
  },
  "language_info": {
   "codemirror_mode": {
    "name": "ipython",
    "version": 3
   },
   "file_extension": ".py",
   "mimetype": "text/x-python",
   "name": "python",
   "nbconvert_exporter": "python",
   "pygments_lexer": "ipython3",
   "version": "3.8.12"
  }
 },
 "nbformat": 4,
 "nbformat_minor": 2
}
