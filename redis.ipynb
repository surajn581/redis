{
 "cells": [
  {
   "cell_type": "code",
   "execution_count": 2,
   "metadata": {},
   "outputs": [],
   "source": [
    "import redis"
   ]
  },
  {
   "cell_type": "code",
   "execution_count": 3,
   "metadata": {},
   "outputs": [],
   "source": [
    "rClient = redis.Redis(host='localhost', port=6379, db=0)"
   ]
  },
  {
   "cell_type": "code",
   "execution_count": 25,
   "metadata": {},
   "outputs": [],
   "source": [
    "class API:\n",
    "    def __init__(self, r_client):\n",
    "        self.r_client = r_client\n",
    "        self.expiry = 300\n",
    "\n",
    "    def getFromCache(self, key):\n",
    "        return self.r_client.get(key)\n",
    "    \n",
    "    def setInCache(self, key, value):\n",
    "        self.r_client.set(key, value, self.expiry)\n",
    "    \n",
    "    def _request(self, key):\n",
    "        import time\n",
    "        time.sleep(5)\n",
    "        return key**2\n",
    "    \n",
    "    def request(self, key):\n",
    "        value = self.getFromCache(key)\n",
    "        if value:\n",
    "            return value\n",
    "        value = self._request(key)\n",
    "        self.setInCache(key, value)\n",
    "        return value\n",
    "    \n",
    "    def delete(self, key):\n",
    "        self.r_client.delete(key)"
   ]
  },
  {
   "cell_type": "code",
   "execution_count": 26,
   "metadata": {},
   "outputs": [],
   "source": [
    "api = API(r_client=rClient)"
   ]
  },
  {
   "cell_type": "code",
   "execution_count": 38,
   "metadata": {},
   "outputs": [
    {
     "data": {
      "text/plain": [
       "b'16'"
      ]
     },
     "execution_count": 38,
     "metadata": {},
     "output_type": "execute_result"
    }
   ],
   "source": [
    "api.request(4)"
   ]
  },
  {
   "cell_type": "code",
   "execution_count": 34,
   "metadata": {},
   "outputs": [
    {
     "data": {
      "text/plain": [
       "1"
      ]
     },
     "execution_count": 34,
     "metadata": {},
     "output_type": "execute_result"
    }
   ],
   "source": [
    "rClient.delete('4')"
   ]
  },
  {
   "cell_type": "code",
   "execution_count": null,
   "metadata": {},
   "outputs": [],
   "source": []
  }
 ],
 "metadata": {
  "kernelspec": {
   "display_name": "py3",
   "language": "python",
   "name": "python3"
  },
  "language_info": {
   "codemirror_mode": {
    "name": "ipython",
    "version": 3
   },
   "file_extension": ".py",
   "mimetype": "text/x-python",
   "name": "python",
   "nbconvert_exporter": "python",
   "pygments_lexer": "ipython3",
   "version": "3.8.12"
  }
 },
 "nbformat": 4,
 "nbformat_minor": 2
}
