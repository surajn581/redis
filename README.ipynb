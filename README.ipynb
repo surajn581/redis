{
 "cells": [
  {
   "cell_type": "markdown",
   "metadata": {},
   "source": [
    "# ReadMe"
   ]
  },
  {
   "cell_type": "markdown",
   "metadata": {},
   "source": [
    "There are 2 contaninerized applications\n",
    "1. worker.py\n",
    "2. work_publisher.py"
   ]
  },
  {
   "cell_type": "markdown",
   "metadata": {},
   "source": [
    "## work_publisher\n",
    "\n",
    "if publishes BlockWorkItem objects to the redis queue named WorkPublisher at the rate of 30 objects per ~100-120 seconds"
   ]
  },
  {
   "cell_type": "markdown",
   "metadata": {},
   "source": [
    "## worker\n",
    "\n",
    "it takes the work_publisher object as input and extracts the details about the redis connection and the queue name. It polls the redis queue that the publisher publishes to. It also uses the publisher object to republish the work items into the queue in case of failure while processing the item so that it can be tried again by the same or different worker."
   ]
  },
  {
   "cell_type": "markdown",
   "metadata": {},
   "source": [
    "the following commands were run to build the docker images:\n",
    "1.  <code>docker build -t worker -f ./worker/Dockerfile .</code>\n",
    "2.  <code>docker build -t work_publisher -f ./work_publisher/Dockerfile .</code>\n",
    "\n",
    "we can simply cd into the directory of the dockerfile and run <code>docker build -t worker .</code> because docker would switch to the parent directory (I'm not sure of the reason) hence the above command with **-f** and specifying the path of the docker file helps in mainting the correct relative paths for the copy command."
   ]
  },
  {
   "cell_type": "markdown",
   "metadata": {},
   "source": [
    "The images redis, worker and work_publisher must be bulit as follows\n",
    "\n",
    "<code>\n",
    "1. docker run --net work_network --name redis -d redis<br>\n",
    "2. docker run --net work_network --name worker -d worker<br>\n",
    "3. docker run --net work_network --name work_publisher -d work_publisher<br>\n",
    "</code>\n",
    "\n",
    "we don't use port mapping as all the containers are running in the same network\n",
    "\n",
    "<code>docker network create work_network</code>\n",
    "\n",
    "and the queue_config.py defines the host address of redis\n",
    "<code>HOST = '172.18.0.2'</code> (I'm not sure if this needs to be dynamic or how to make it if it does, let's see)"
   ]
  },
  {
   "cell_type": "markdown",
   "metadata": {},
   "source": []
  }
 ],
 "metadata": {
  "kernelspec": {
   "display_name": "py3",
   "language": "python",
   "name": "python3"
  },
  "language_info": {
   "codemirror_mode": {
    "name": "ipython",
    "version": 3
   },
   "file_extension": ".py",
   "mimetype": "text/x-python",
   "name": "python",
   "nbconvert_exporter": "python",
   "pygments_lexer": "ipython3",
   "version": "3.8.12"
  }
 },
 "nbformat": 4,
 "nbformat_minor": 2
}
